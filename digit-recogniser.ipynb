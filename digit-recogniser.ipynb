{
 "cells": [
  {
   "cell_type": "code",
   "execution_count": 1,
   "id": "2269b4ec-7641-4a79-af28-fcb77c2dc342",
   "metadata": {},
   "outputs": [],
   "source": [
    "import numpy as np\n",
    "import pandas as pd\n",
    "from matplotlib import pyplot as plt\n",
    "\n",
    "data = pd.read_csv('train.csv')\n"
   ]
  },
  {
   "cell_type": "code",
   "execution_count": 2,
   "id": "5f06aa6e-4acd-4334-984e-f6c551b4f1ad",
   "metadata": {},
   "outputs": [
    {
     "data": {
      "text/html": [
       "<div>\n",
       "<style scoped>\n",
       "    .dataframe tbody tr th:only-of-type {\n",
       "        vertical-align: middle;\n",
       "    }\n",
       "\n",
       "    .dataframe tbody tr th {\n",
       "        vertical-align: top;\n",
       "    }\n",
       "\n",
       "    .dataframe thead th {\n",
       "        text-align: right;\n",
       "    }\n",
       "</style>\n",
       "<table border=\"1\" class=\"dataframe\">\n",
       "  <thead>\n",
       "    <tr style=\"text-align: right;\">\n",
       "      <th></th>\n",
       "      <th>label</th>\n",
       "      <th>pixel0</th>\n",
       "      <th>pixel1</th>\n",
       "      <th>pixel2</th>\n",
       "      <th>pixel3</th>\n",
       "      <th>pixel4</th>\n",
       "      <th>pixel5</th>\n",
       "      <th>pixel6</th>\n",
       "      <th>pixel7</th>\n",
       "      <th>pixel8</th>\n",
       "      <th>...</th>\n",
       "      <th>pixel774</th>\n",
       "      <th>pixel775</th>\n",
       "      <th>pixel776</th>\n",
       "      <th>pixel777</th>\n",
       "      <th>pixel778</th>\n",
       "      <th>pixel779</th>\n",
       "      <th>pixel780</th>\n",
       "      <th>pixel781</th>\n",
       "      <th>pixel782</th>\n",
       "      <th>pixel783</th>\n",
       "    </tr>\n",
       "  </thead>\n",
       "  <tbody>\n",
       "    <tr>\n",
       "      <th>0</th>\n",
       "      <td>1</td>\n",
       "      <td>0</td>\n",
       "      <td>0</td>\n",
       "      <td>0</td>\n",
       "      <td>0</td>\n",
       "      <td>0</td>\n",
       "      <td>0</td>\n",
       "      <td>0</td>\n",
       "      <td>0</td>\n",
       "      <td>0</td>\n",
       "      <td>...</td>\n",
       "      <td>0</td>\n",
       "      <td>0</td>\n",
       "      <td>0</td>\n",
       "      <td>0</td>\n",
       "      <td>0</td>\n",
       "      <td>0</td>\n",
       "      <td>0</td>\n",
       "      <td>0</td>\n",
       "      <td>0</td>\n",
       "      <td>0</td>\n",
       "    </tr>\n",
       "    <tr>\n",
       "      <th>1</th>\n",
       "      <td>0</td>\n",
       "      <td>0</td>\n",
       "      <td>0</td>\n",
       "      <td>0</td>\n",
       "      <td>0</td>\n",
       "      <td>0</td>\n",
       "      <td>0</td>\n",
       "      <td>0</td>\n",
       "      <td>0</td>\n",
       "      <td>0</td>\n",
       "      <td>...</td>\n",
       "      <td>0</td>\n",
       "      <td>0</td>\n",
       "      <td>0</td>\n",
       "      <td>0</td>\n",
       "      <td>0</td>\n",
       "      <td>0</td>\n",
       "      <td>0</td>\n",
       "      <td>0</td>\n",
       "      <td>0</td>\n",
       "      <td>0</td>\n",
       "    </tr>\n",
       "    <tr>\n",
       "      <th>2</th>\n",
       "      <td>1</td>\n",
       "      <td>0</td>\n",
       "      <td>0</td>\n",
       "      <td>0</td>\n",
       "      <td>0</td>\n",
       "      <td>0</td>\n",
       "      <td>0</td>\n",
       "      <td>0</td>\n",
       "      <td>0</td>\n",
       "      <td>0</td>\n",
       "      <td>...</td>\n",
       "      <td>0</td>\n",
       "      <td>0</td>\n",
       "      <td>0</td>\n",
       "      <td>0</td>\n",
       "      <td>0</td>\n",
       "      <td>0</td>\n",
       "      <td>0</td>\n",
       "      <td>0</td>\n",
       "      <td>0</td>\n",
       "      <td>0</td>\n",
       "    </tr>\n",
       "    <tr>\n",
       "      <th>3</th>\n",
       "      <td>4</td>\n",
       "      <td>0</td>\n",
       "      <td>0</td>\n",
       "      <td>0</td>\n",
       "      <td>0</td>\n",
       "      <td>0</td>\n",
       "      <td>0</td>\n",
       "      <td>0</td>\n",
       "      <td>0</td>\n",
       "      <td>0</td>\n",
       "      <td>...</td>\n",
       "      <td>0</td>\n",
       "      <td>0</td>\n",
       "      <td>0</td>\n",
       "      <td>0</td>\n",
       "      <td>0</td>\n",
       "      <td>0</td>\n",
       "      <td>0</td>\n",
       "      <td>0</td>\n",
       "      <td>0</td>\n",
       "      <td>0</td>\n",
       "    </tr>\n",
       "    <tr>\n",
       "      <th>4</th>\n",
       "      <td>0</td>\n",
       "      <td>0</td>\n",
       "      <td>0</td>\n",
       "      <td>0</td>\n",
       "      <td>0</td>\n",
       "      <td>0</td>\n",
       "      <td>0</td>\n",
       "      <td>0</td>\n",
       "      <td>0</td>\n",
       "      <td>0</td>\n",
       "      <td>...</td>\n",
       "      <td>0</td>\n",
       "      <td>0</td>\n",
       "      <td>0</td>\n",
       "      <td>0</td>\n",
       "      <td>0</td>\n",
       "      <td>0</td>\n",
       "      <td>0</td>\n",
       "      <td>0</td>\n",
       "      <td>0</td>\n",
       "      <td>0</td>\n",
       "    </tr>\n",
       "  </tbody>\n",
       "</table>\n",
       "<p>5 rows × 785 columns</p>\n",
       "</div>"
      ],
      "text/plain": [
       "   label  pixel0  pixel1  pixel2  pixel3  pixel4  pixel5  pixel6  pixel7  \\\n",
       "0      1       0       0       0       0       0       0       0       0   \n",
       "1      0       0       0       0       0       0       0       0       0   \n",
       "2      1       0       0       0       0       0       0       0       0   \n",
       "3      4       0       0       0       0       0       0       0       0   \n",
       "4      0       0       0       0       0       0       0       0       0   \n",
       "\n",
       "   pixel8  ...  pixel774  pixel775  pixel776  pixel777  pixel778  pixel779  \\\n",
       "0       0  ...         0         0         0         0         0         0   \n",
       "1       0  ...         0         0         0         0         0         0   \n",
       "2       0  ...         0         0         0         0         0         0   \n",
       "3       0  ...         0         0         0         0         0         0   \n",
       "4       0  ...         0         0         0         0         0         0   \n",
       "\n",
       "   pixel780  pixel781  pixel782  pixel783  \n",
       "0         0         0         0         0  \n",
       "1         0         0         0         0  \n",
       "2         0         0         0         0  \n",
       "3         0         0         0         0  \n",
       "4         0         0         0         0  \n",
       "\n",
       "[5 rows x 785 columns]"
      ]
     },
     "execution_count": 2,
     "metadata": {},
     "output_type": "execute_result"
    }
   ],
   "source": [
    "data.head()"
   ]
  },
  {
   "cell_type": "code",
   "execution_count": 3,
   "id": "d1174ab9-1c32-44eb-925e-34daf1d2e994",
   "metadata": {},
   "outputs": [],
   "source": [
    "data = np.array(data)\n",
    "\n",
    "m, n = data.shape\n",
    "\n",
    "np.random.shuffle(data)\n",
    "\n",
    "dev_set_size = 1000\n",
    "\n",
    "data_dev = data[:dev_set_size].T\n",
    "Y_dev = data_dev[0]\n",
    "X_dev = data_dev[1:n] / 255.0  \n",
    "\n",
    "data_train = data[dev_set_size:].T\n",
    "Y_train = data_train[0]\n",
    "X_train = data_train[1:n] / 255.0  \n",
    "\n",
    "_, m_train = X_train.shape"
   ]
  },
  {
   "cell_type": "code",
   "execution_count": 4,
   "id": "0079fec1-29a6-4d6c-a94a-b80a2cfddc74",
   "metadata": {},
   "outputs": [
    {
     "data": {
      "text/plain": [
       "array([4, 2, 0, ..., 4, 0, 4])"
      ]
     },
     "execution_count": 4,
     "metadata": {},
     "output_type": "execute_result"
    }
   ],
   "source": [
    "Y_train"
   ]
  },
  {
   "cell_type": "code",
   "execution_count": 5,
   "id": "286da486-8d59-4ade-a356-86263c604a67",
   "metadata": {},
   "outputs": [],
   "source": [
    "def init_params():\n",
    "    W1 = np.random.rand(10, 784) - 0.5\n",
    "    b1 = np.random.rand(10, 1) - 0.5\n",
    "    W2 = np.random.rand(10, 10) - 0.5\n",
    "    b2 = np.random.rand(10, 1) - 0.5\n",
    "    return W1, b1, W2, b2"
   ]
  },
  {
   "cell_type": "code",
   "execution_count": 6,
   "id": "a9a1e0a4-5ccd-4ba0-be7e-3bc665c60287",
   "metadata": {},
   "outputs": [],
   "source": [
    "def ReLU(Z):\n",
    "    return np.maximum(Z, 0)"
   ]
  },
  {
   "cell_type": "code",
   "execution_count": 7,
   "id": "0c0858fa-1c37-4950-b44d-28f6113e5dfe",
   "metadata": {},
   "outputs": [],
   "source": [
    "def softmax(Z):\n",
    "    A = np.exp(Z) / sum(np.exp(Z))\n",
    "    return A"
   ]
  },
  {
   "cell_type": "code",
   "execution_count": 8,
   "id": "db184408-357b-4687-b3be-16b8b97c4989",
   "metadata": {},
   "outputs": [],
   "source": [
    "def forward_prop(W1, b1, W2, b2, X):\n",
    "    Z1 = W1.dot(X) + b1\n",
    "    A1 = ReLU(Z1)\n",
    "    Z2 = W2.dot(A1) + b2\n",
    "    A2 = softmax(Z2)\n",
    "    return Z1, A1, Z2, A2"
   ]
  },
  {
   "cell_type": "code",
   "execution_count": 9,
   "id": "4ed570e8-1628-473e-97fa-2eaab694e088",
   "metadata": {},
   "outputs": [],
   "source": [
    "def ReLU_deriv(Z):\n",
    "    return Z > 0"
   ]
  },
  {
   "cell_type": "code",
   "execution_count": 10,
   "id": "c125fd01-faa1-40a1-8020-1d6ba5c24c69",
   "metadata": {},
   "outputs": [],
   "source": [
    "def one_hot(Y):\n",
    "    one_hot_Y = np.zeros((Y.size, Y.max() + 1))\n",
    "    one_hot_Y[np.arange(Y.size), Y] = 1\n",
    "    one_hot_Y = one_hot_Y.T\n",
    "    return one_hot_Y"
   ]
  },
  {
   "cell_type": "code",
   "execution_count": 11,
   "id": "407de882-a1d1-4bdc-99c3-e88e12b9d207",
   "metadata": {},
   "outputs": [],
   "source": [
    "def backward_prop(Z1, A1, Z2, A2, W1, W2, X, Y):\n",
    "    one_hot_Y = one_hot(Y)\n",
    "    dZ2 = A2 - one_hot_Y\n",
    "    dW2 = 1 / m * dZ2.dot(A1.T)\n",
    "    db2 = 1 / m * np.sum(dZ2)\n",
    "    dZ1 = W2.T.dot(dZ2) * ReLU_deriv(Z1)\n",
    "    dW1 = 1 / m * dZ1.dot(X.T)\n",
    "    db1 = 1 / m * np.sum(dZ1)\n",
    "    return dW1, db1, dW2, db2\n"
   ]
  },
  {
   "cell_type": "code",
   "execution_count": 12,
   "id": "f69ad8cd-1fd0-40b7-acd9-5a67fba9a4ad",
   "metadata": {},
   "outputs": [],
   "source": [
    "def update_params(W1, b1, W2, b2, dW1, db1, dW2, db2, alpha):\n",
    "    W1 = W1 - alpha * dW1\n",
    "    b1 = b1 - alpha * db1    \n",
    "    W2 = W2 - alpha * dW2  \n",
    "    b2 = b2 - alpha * db2    \n",
    "    return W1, b1, W2, b2"
   ]
  },
  {
   "cell_type": "code",
   "execution_count": 13,
   "id": "67302ae2-2df5-4884-a625-c13e457c1e95",
   "metadata": {},
   "outputs": [],
   "source": [
    "def get_predictions(A2):\n",
    "    return np.argmax(A2, 0)"
   ]
  },
  {
   "cell_type": "code",
   "execution_count": 14,
   "id": "613d5d5c-422b-4eae-9473-df50c7d7493b",
   "metadata": {},
   "outputs": [],
   "source": [
    "def get_accuracy(predictions, Y):\n",
    "    print(predictions, Y)\n",
    "    return np.sum(predictions == Y) / Y.size"
   ]
  },
  {
   "cell_type": "code",
   "execution_count": 15,
   "id": "4a223c9f-4cb2-4bdd-a1ab-4e2a61c4dbfb",
   "metadata": {},
   "outputs": [],
   "source": [
    "def gradient_descent(X, Y, alpha, iterations):\n",
    "    W1, b1, W2, b2 = init_params()\n",
    "    for i in range(iterations):\n",
    "        Z1, A1, Z2, A2 = forward_prop(W1, b1, W2, b2, X)\n",
    "        dW1, db1, dW2, db2 = backward_prop(Z1, A1, Z2, A2, W1, W2, X, Y)\n",
    "        W1, b1, W2, b2 = update_params(W1, b1, W2, b2, dW1, db1, dW2, db2, alpha)\n",
    "        if i % 10 == 0:\n",
    "            print(\"Iteration: \", i)\n",
    "            predictions = get_predictions(A2)\n",
    "            print(get_accuracy(predictions, Y))\n",
    "    return W1, b1, W2, b2"
   ]
  },
  {
   "cell_type": "code",
   "execution_count": 16,
   "id": "3338a09f-8cbc-4528-9912-f8a71680cd2c",
   "metadata": {},
   "outputs": [
    {
     "name": "stdout",
     "output_type": "stream",
     "text": [
      "Iteration:  0\n",
      "[8 8 8 ... 2 8 2] [4 2 0 ... 4 0 4]\n",
      "0.1257560975609756\n",
      "Iteration:  10\n",
      "[8 8 0 ... 2 3 3] [4 2 0 ... 4 0 4]\n",
      "0.22795121951219513\n",
      "Iteration:  20\n",
      "[8 8 0 ... 2 3 9] [4 2 0 ... 4 0 4]\n",
      "0.28324390243902436\n",
      "Iteration:  30\n",
      "[8 8 0 ... 2 0 9] [4 2 0 ... 4 0 4]\n",
      "0.3772439024390244\n",
      "Iteration:  40\n",
      "[8 8 0 ... 4 0 9] [4 2 0 ... 4 0 4]\n",
      "0.443\n",
      "Iteration:  50\n",
      "[8 8 0 ... 4 0 9] [4 2 0 ... 4 0 4]\n",
      "0.5039268292682927\n",
      "Iteration:  60\n",
      "[8 8 0 ... 4 0 9] [4 2 0 ... 4 0 4]\n",
      "0.5496341463414635\n",
      "Iteration:  70\n",
      "[8 8 0 ... 4 0 9] [4 2 0 ... 4 0 4]\n",
      "0.5858292682926829\n",
      "Iteration:  80\n",
      "[2 2 0 ... 4 0 9] [4 2 0 ... 4 0 4]\n",
      "0.6144146341463415\n",
      "Iteration:  90\n",
      "[2 2 0 ... 4 0 9] [4 2 0 ... 4 0 4]\n",
      "0.6366341463414634\n",
      "Iteration:  100\n",
      "[2 2 0 ... 4 0 9] [4 2 0 ... 4 0 4]\n",
      "0.6554146341463415\n",
      "Iteration:  110\n",
      "[2 2 0 ... 4 0 4] [4 2 0 ... 4 0 4]\n",
      "0.6708780487804878\n",
      "Iteration:  120\n",
      "[2 2 0 ... 4 0 4] [4 2 0 ... 4 0 4]\n",
      "0.6836341463414635\n",
      "Iteration:  130\n",
      "[2 2 0 ... 4 0 4] [4 2 0 ... 4 0 4]\n",
      "0.6964878048780487\n",
      "Iteration:  140\n",
      "[2 2 0 ... 4 0 4] [4 2 0 ... 4 0 4]\n",
      "0.7066829268292683\n",
      "Iteration:  150\n",
      "[2 2 0 ... 4 0 4] [4 2 0 ... 4 0 4]\n",
      "0.7161219512195122\n",
      "Iteration:  160\n",
      "[2 2 0 ... 4 0 4] [4 2 0 ... 4 0 4]\n",
      "0.7255365853658536\n",
      "Iteration:  170\n",
      "[8 2 0 ... 4 0 4] [4 2 0 ... 4 0 4]\n",
      "0.7332439024390244\n",
      "Iteration:  180\n",
      "[8 2 0 ... 4 0 4] [4 2 0 ... 4 0 4]\n",
      "0.7400487804878049\n",
      "Iteration:  190\n",
      "[8 2 0 ... 4 0 4] [4 2 0 ... 4 0 4]\n",
      "0.7464634146341463\n",
      "Iteration:  200\n",
      "[8 2 0 ... 4 0 4] [4 2 0 ... 4 0 4]\n",
      "0.7535121951219512\n",
      "Iteration:  210\n",
      "[8 2 0 ... 4 0 4] [4 2 0 ... 4 0 4]\n",
      "0.7588536585365854\n",
      "Iteration:  220\n",
      "[8 2 0 ... 4 0 4] [4 2 0 ... 4 0 4]\n",
      "0.7645609756097561\n",
      "Iteration:  230\n",
      "[8 2 0 ... 4 0 4] [4 2 0 ... 4 0 4]\n",
      "0.7692439024390244\n",
      "Iteration:  240\n",
      "[8 2 0 ... 4 0 4] [4 2 0 ... 4 0 4]\n",
      "0.7744146341463415\n",
      "Iteration:  250\n",
      "[8 2 0 ... 4 0 4] [4 2 0 ... 4 0 4]\n",
      "0.7795853658536586\n",
      "Iteration:  260\n",
      "[8 2 0 ... 4 0 4] [4 2 0 ... 4 0 4]\n",
      "0.7844146341463415\n",
      "Iteration:  270\n",
      "[8 2 0 ... 4 0 4] [4 2 0 ... 4 0 4]\n",
      "0.7882439024390244\n",
      "Iteration:  280\n",
      "[8 2 0 ... 4 0 4] [4 2 0 ... 4 0 4]\n",
      "0.7922439024390244\n",
      "Iteration:  290\n",
      "[8 2 0 ... 4 0 4] [4 2 0 ... 4 0 4]\n",
      "0.7953414634146342\n",
      "Iteration:  300\n",
      "[8 2 0 ... 4 0 4] [4 2 0 ... 4 0 4]\n",
      "0.7990975609756098\n",
      "Iteration:  310\n",
      "[8 2 0 ... 4 0 4] [4 2 0 ... 4 0 4]\n",
      "0.802439024390244\n",
      "Iteration:  320\n",
      "[8 2 0 ... 4 0 4] [4 2 0 ... 4 0 4]\n",
      "0.8059756097560976\n",
      "Iteration:  330\n",
      "[8 2 0 ... 4 0 4] [4 2 0 ... 4 0 4]\n",
      "0.8090731707317074\n",
      "Iteration:  340\n",
      "[4 2 0 ... 4 0 4] [4 2 0 ... 4 0 4]\n",
      "0.8124634146341464\n",
      "Iteration:  350\n",
      "[4 2 0 ... 4 0 4] [4 2 0 ... 4 0 4]\n",
      "0.8155365853658536\n",
      "Iteration:  360\n",
      "[4 2 0 ... 4 0 4] [4 2 0 ... 4 0 4]\n",
      "0.8182682926829268\n",
      "Iteration:  370\n",
      "[4 2 0 ... 4 0 4] [4 2 0 ... 4 0 4]\n",
      "0.8209024390243902\n",
      "Iteration:  380\n",
      "[4 2 0 ... 4 0 4] [4 2 0 ... 4 0 4]\n",
      "0.8231951219512195\n",
      "Iteration:  390\n",
      "[4 2 0 ... 4 0 4] [4 2 0 ... 4 0 4]\n",
      "0.826\n",
      "Iteration:  400\n",
      "[4 2 0 ... 4 0 4] [4 2 0 ... 4 0 4]\n",
      "0.8278048780487804\n",
      "Iteration:  410\n",
      "[4 2 0 ... 4 0 4] [4 2 0 ... 4 0 4]\n",
      "0.8303170731707317\n",
      "Iteration:  420\n",
      "[4 2 0 ... 4 0 4] [4 2 0 ... 4 0 4]\n",
      "0.8320731707317073\n",
      "Iteration:  430\n",
      "[4 2 0 ... 4 0 4] [4 2 0 ... 4 0 4]\n",
      "0.8339756097560975\n",
      "Iteration:  440\n",
      "[4 2 0 ... 4 0 4] [4 2 0 ... 4 0 4]\n",
      "0.835780487804878\n",
      "Iteration:  450\n",
      "[4 2 0 ... 4 0 4] [4 2 0 ... 4 0 4]\n",
      "0.8375121951219512\n",
      "Iteration:  460\n",
      "[4 2 0 ... 4 0 4] [4 2 0 ... 4 0 4]\n",
      "0.8392195121951219\n",
      "Iteration:  470\n",
      "[4 2 0 ... 4 0 4] [4 2 0 ... 4 0 4]\n",
      "0.8405853658536585\n",
      "Iteration:  480\n",
      "[4 2 0 ... 4 0 4] [4 2 0 ... 4 0 4]\n",
      "0.8422682926829268\n",
      "Iteration:  490\n",
      "[4 2 0 ... 4 0 4] [4 2 0 ... 4 0 4]\n",
      "0.8437560975609756\n"
     ]
    }
   ],
   "source": [
    "W1, b1, W2, b2 = gradient_descent(X_train, Y_train, 0.10, 500)"
   ]
  },
  {
   "cell_type": "code",
   "execution_count": 17,
   "id": "4f3724aa-2f7d-4149-b20d-d2286e01e325",
   "metadata": {},
   "outputs": [],
   "source": [
    "def make_predictions(X, W1, b1, W2, b2):\n",
    "    _, _, _, A2 = forward_prop(W1, b1, W2, b2, X)\n",
    "    predictions = get_predictions(A2)\n",
    "    return predictions"
   ]
  },
  {
   "cell_type": "code",
   "execution_count": 18,
   "id": "c08c623e-93cf-41eb-afb2-68f1806a077a",
   "metadata": {},
   "outputs": [],
   "source": [
    "def test_prediction(index, W1, b1, W2, b2):\n",
    "    current_image = X_train[:, index, None]\n",
    "    prediction = make_predictions(X_train[:, index, None], W1, b1, W2, b2)\n",
    "    label = Y_train[index]\n",
    "    print(\"Prediction: \", prediction)\n",
    "    print(\"Label: \", label)\n",
    "    \n",
    "    current_image = current_image.reshape((28, 28)) * 255\n",
    "    plt.gray()\n",
    "    plt.imshow(current_image, interpolation='nearest')\n",
    "    plt.show()"
   ]
  },
  {
   "cell_type": "code",
   "execution_count": 19,
   "id": "4f96b56f-ee87-4c77-8474-4f9524a073dd",
   "metadata": {},
   "outputs": [
    {
     "name": "stdout",
     "output_type": "stream",
     "text": [
      "Prediction:  [4]\n",
      "Label:  9\n"
     ]
    },
    {
     "data": {
      "image/png": "[encoded data removed]",
      "text/plain": [
       "<Figure size 640x480 with 1 Axes>"
      ]
     },
     "metadata": {},
     "output_type": "display_data"
    },
    {
     "name": "stdout",
     "output_type": "stream",
     "text": [
      "Prediction:  [2]\n",
      "Label:  2\n"
     ]
    },
    {
     "data": {
      "image/png": "[encoded data removed]",
      "text/plain": [
       "<Figure size 640x480 with 1 Axes>"
      ]
     },
     "metadata": {},
     "output_type": "display_data"
    },
    {
     "name": "stdout",
     "output_type": "stream",
     "text": [
      "Prediction:  [0]\n",
      "Label:  0\n"
     ]
    },
    {
     "data": {
      "image/png": "[encoded data removed]",
      "text/plain": [
       "<Figure size 640x480 with 1 Axes>"
      ]
     },
     "metadata": {},
     "output_type": "display_data"
    },
    {
     "name": "stdout",
     "output_type": "stream",
     "text": [
      "Prediction:  [8]\n",
      "Label:  3\n"
     ]
    },
    {
     "data": {
      "image/png": "[encoded data removed]",
      "text/plain": [
       "<Figure size 640x480 with 1 Axes>"
      ]
     },
     "metadata": {},
     "output_type": "display_data"
    }
   ],
   "source": [
    "test_prediction(5, W1, b1, W2, b2)\n",
    "test_prediction(6, W1, b1, W2, b2)\n",
    "test_prediction(7, W1, b1, W2, b2)\n",
    "test_prediction(8, W1, b1, W2, b2)\n"
   ]
  },
  {
   "cell_type": "code",
   "execution_count": 20,
   "id": "095304f4-843a-4afb-b5d6-2956f194e9ba",
   "metadata": {},
   "outputs": [
    {
     "name": "stdout",
     "output_type": "stream",
     "text": [
      "[0 9 5 1 5 8 1 8 6 2 6 1 5 2 0 8 8 2 2 0 7 8 9 4 1 5 0 9 4 9 9 2 1 6 4 6 1\n",
      " 5 7 2 1 8 2 1 9 0 4 1 7 2 8 2 9 1 7 7 4 9 8 5 8 6 0 4 0 3 8 2 3 6 3 7 2 4\n",
      " 1 5 2 7 4 4 6 7 1 3 5 1 0 3 2 2 0 0 9 0 8 3 0 1 1 7 6 1 7 2 0 6 9 1 5 2 9\n",
      " 7 3 4 9 9 6 7 0 8 3 7 8 9 9 0 4 6 7 1 2 5 3 2 7 4 6 5 6 1 4 6 1 9 2 4 7 8\n",
      " 7 4 1 3 1 7 3 0 4 2 7 1 6 9 6 7 5 7 6 6 5 1 6 1 7 7 8 0 1 1 1 7 0 8 9 3 9\n",
      " 2 3 9 1 9 0 9 6 9 7 8 0 9 6 1 8 2 6 4 4 9 4 8 0 6 0 4 3 9 9 9 1 3 1 8 1 7\n",
      " 3 0 8 3 3 7 3 8 3 2 4 4 5 6 0 1 6 8 7 4 1 7 8 2 5 6 8 6 9 6 0 9 7 7 5 5 0\n",
      " 5 4 9 0 7 7 9 6 9 6 4 8 4 4 6 7 1 8 8 4 8 4 3 6 6 7 3 9 1 1 0 1 8 6 4 9 5\n",
      " 8 6 1 2 3 8 9 1 0 7 0 2 4 4 5 7 3 3 2 9 2 3 5 3 3 2 0 9 0 0 9 7 7 5 1 4 8\n",
      " 6 1 0 6 1 0 4 2 3 9 7 3 0 9 4 6 9 8 6 4 4 4 1 1 4 0 7 3 1 6 3 9 9 6 7 1 1\n",
      " 7 0 6 0 6 2 0 0 6 6 6 6 1 4 7 8 0 5 2 4 3 7 9 7 1 2 5 2 6 3 0 8 7 6 1 9 7\n",
      " 2 1 4 9 2 5 3 9 8 0 6 1 6 8 5 0 8 5 6 7 5 1 5 0 8 8 9 8 6 1 7 9 6 6 1 0 5\n",
      " 6 2 9 9 7 4 6 3 7 1 9 0 4 6 2 6 9 7 9 9 3 8 0 6 3 5 0 5 9 1 4 5 6 3 0 4 1\n",
      " 5 4 0 8 3 2 2 5 8 1 9 6 0 5 2 4 3 4 9 4 2 0 6 8 5 3 3 3 3 2 8 3 2 4 9 5 4\n",
      " 3 0 5 8 0 0 0 0 4 1 3 9 7 8 7 8 2 4 6 8 1 6 0 3 6 1 1 3 7 7 7 6 7 2 9 8 6\n",
      " 7 2 9 5 0 2 0 0 1 6 1 1 0 9 3 6 7 0 8 6 3 6 0 0 1 3 1 7 3 5 2 2 9 2 8 9 4\n",
      " 5 9 9 1 6 4 7 4 9 0 2 3 3 7 8 3 0 1 1 7 4 4 5 5 1 4 2 1 5 4 0 3 9 9 5 2 1\n",
      " 6 5 2 2 4 9 0 1 9 6 7 2 6 9 1 7 4 7 5 3 6 1 6 1 4 0 7 7 9 8 7 9 1 0 9 9 7\n",
      " 5 3 2 1 1 2 6 0 1 5 1 7 6 1 0 3 8 8 0 4 9 5 4 3 5 0 2 7 3 9 8 7 7 4 1 6 6\n",
      " 2 4 8 2 2 2 4 6 8 2 7 8 5 7 1 4 1 4 7 6 7 4 5 2 7 8 3 3 2 4 2 3 7 0 3 8 9\n",
      " 5 5 6 1 9 7 4 3 7 7 1 6 7 0 4 0 4 2 3 6 7 2 7 6 3 9 1 1 3 5 7 5 4 4 2 4 1\n",
      " 9 9 1 8 2 3 1 1 8 8 1 0 1 6 0 8 1 6 3 5 4 3 7 2 6 4 5 1 2 7 1 7 6 3 9 3 4\n",
      " 6 2 9 1 8 0 6 8 3 7 6 3 3 2 8 7 8 0 3 9 1 8 6 4 4 7 6 3 6 9 7 7 8 7 1 8 8\n",
      " 9 8 5 7 8 2 1 8 7 7 1 5 4 5 9 9 4 8 8 8 6 0 6 0 5 3 1 3 6 1 4 5 9 6 0 2 0\n",
      " 3 4 7 2 7 8 7 4 6 0 3 6 9 9 0 3 3 7 7 4 2 2 0 8 6 2 0 1 0 7 4 5 0 1 9 0 9\n",
      " 7 3 2 1 3 1 1 1 6 6 9 4 1 1 6 1 1 1 6 1 4 5 8 9 7 4 0 8 6 1 1 7 9 9 5 0 6\n",
      " 9 5 0 1 4 5 1 3 5 0 1 6 9 7 4 9 1 9 9 2 0 4 8 7 4 0 0 0 2 9 1 7 7 1 5 8 5\n",
      " 5] [0 9 5 1 5 5 1 8 6 2 6 1 5 2 5 8 2 2 3 4 6 8 9 4 1 5 0 9 9 8 9 2 1 6 4 4 1\n",
      " 5 7 2 1 8 2 1 9 0 4 1 7 2 8 5 8 1 7 9 4 9 8 5 8 6 0 4 0 0 8 2 8 6 3 7 2 4\n",
      " 1 5 2 7 4 4 6 7 1 3 8 1 0 5 2 2 0 0 4 0 8 3 0 1 1 7 6 8 7 4 0 6 8 1 5 2 9\n",
      " 7 3 4 9 4 6 3 4 8 3 7 5 9 9 0 9 6 7 1 2 5 0 2 7 4 6 5 6 1 5 6 1 9 2 4 7 2\n",
      " 7 4 1 3 8 7 3 0 4 2 7 1 6 7 6 7 8 2 6 6 5 1 6 1 7 7 8 0 1 1 1 7 0 8 9 3 9\n",
      " 2 3 9 1 9 5 9 6 9 7 8 8 9 6 1 8 5 6 4 4 9 9 8 0 6 0 4 3 9 9 9 1 3 1 0 1 7\n",
      " 3 0 8 3 3 7 3 3 2 2 4 4 9 6 0 1 6 8 7 4 1 7 8 2 5 6 8 6 4 6 0 9 7 7 5 5 0\n",
      " 5 4 9 0 9 7 9 6 9 6 4 8 6 4 6 7 1 8 8 4 8 4 3 6 6 7 3 4 1 1 0 1 8 6 4 9 9\n",
      " 8 6 1 2 3 8 9 1 0 7 0 2 4 4 6 7 3 5 2 9 2 3 3 3 3 2 0 9 0 0 9 7 7 5 1 4 4\n",
      " 6 1 0 4 1 0 2 2 3 9 9 3 0 9 9 6 8 8 6 4 4 4 1 1 5 0 7 5 1 6 3 9 9 6 8 6 1\n",
      " 7 0 6 0 6 2 4 0 6 6 2 6 1 4 7 3 0 5 2 4 3 7 9 7 1 2 5 0 6 3 0 8 7 6 1 8 7\n",
      " 2 1 9 9 2 5 3 9 8 0 6 1 6 8 5 0 8 5 6 7 5 1 9 0 8 8 9 8 6 1 7 9 6 6 1 0 5\n",
      " 6 2 9 9 7 4 2 3 7 1 9 0 4 6 2 6 9 7 3 9 3 8 0 6 3 5 0 5 4 1 4 5 3 3 0 4 1\n",
      " 5 4 0 8 3 2 2 5 8 1 9 6 0 5 3 4 2 4 9 4 5 0 6 8 5 5 3 3 3 2 8 3 3 4 9 5 4\n",
      " 3 0 5 8 0 0 0 0 4 1 3 7 9 8 7 8 3 4 6 8 1 6 0 3 6 1 1 3 7 7 7 6 7 2 7 2 6\n",
      " 7 0 4 3 0 2 0 0 1 4 7 1 3 9 3 6 7 0 8 6 3 6 0 0 1 3 1 7 6 5 2 2 8 2 8 9 4\n",
      " 5 9 9 1 6 4 7 4 4 0 2 3 3 7 8 3 0 1 1 7 4 4 5 5 1 4 2 1 5 4 0 8 9 4 5 2 1\n",
      " 6 5 2 2 9 9 5 1 9 6 7 2 6 9 1 9 4 7 5 3 6 1 5 1 4 0 7 7 9 3 7 9 1 0 7 9 9\n",
      " 5 8 2 1 1 2 6 0 1 5 1 7 6 1 0 3 8 5 0 4 9 3 6 3 5 0 2 7 3 9 8 7 7 4 9 4 6\n",
      " 2 9 8 2 2 2 4 6 8 2 9 3 3 9 1 4 1 4 7 6 7 4 5 2 7 5 3 8 8 4 2 3 7 0 3 8 7\n",
      " 5 5 6 1 9 7 4 2 9 7 1 7 7 0 4 0 4 2 3 6 7 2 2 6 5 4 1 1 3 5 7 5 4 4 2 4 2\n",
      " 8 9 1 8 2 3 1 1 5 8 1 0 1 4 0 8 1 0 0 5 4 3 7 2 6 4 3 1 2 7 1 7 6 5 9 3 4\n",
      " 6 2 9 1 8 0 3 8 3 7 6 9 3 3 8 7 1 0 3 4 1 8 6 4 4 7 6 5 6 9 7 7 8 7 1 8 8\n",
      " 9 8 5 7 8 2 1 8 7 7 1 5 0 5 9 9 4 8 8 8 6 0 6 0 5 5 7 3 6 1 4 8 9 6 0 2 0\n",
      " 3 5 7 2 7 8 7 4 6 0 3 6 4 7 0 3 3 7 7 4 2 8 0 8 6 2 0 1 0 7 4 5 0 1 7 0 9\n",
      " 7 3 2 1 3 1 1 1 0 6 4 4 1 1 6 1 1 1 6 1 9 5 8 3 7 4 0 8 6 1 1 7 9 4 5 0 3\n",
      " 9 5 0 1 4 5 1 3 5 0 1 6 9 7 4 9 1 9 9 5 0 4 8 7 6 5 6 0 2 4 1 7 7 1 5 8 3\n",
      " 5]\n"
     ]
    },
    {
     "data": {
      "text/plain": [
       "0.847"
      ]
     },
     "execution_count": 20,
     "metadata": {},
     "output_type": "execute_result"
    }
   ],
   "source": [
    "dev_predictions = make_predictions(X_dev, W1, b1, W2, b2)\n",
    "get_accuracy(dev_predictions, Y_dev)"
   ]
  },
  {
   "cell_type": "code",
   "execution_count": null,
   "id": "a73f37cb-6d81-41c9-8f47-e41d1545a191",
   "metadata": {},
   "outputs": [],
   "source": []
  }
 ],
 "metadata": {
  "kernelspec": {
   "display_name": "Python 3 (ipykernel)",
   "language": "python",
   "name": "python3"
  },
  "language_info": {
   "codemirror_mode": {
    "name": "ipython",
    "version": 3
   },
   "file_extension": ".py",
   "mimetype": "text/x-python",
   "name": "python",
   "nbconvert_exporter": "python",
   "pygments_lexer": "ipython3",
   "version": "3.11.7"
  }
 },
 "nbformat": 4,
 "nbformat_minor": 5
}
